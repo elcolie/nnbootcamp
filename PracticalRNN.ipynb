{
 "cells": [
  {
   "cell_type": "code",
   "execution_count": 20,
   "metadata": {},
   "outputs": [],
   "source": [
    "import torch\n",
    "import torch.nn as nn\n",
    "from utils import TextProcess, TextGenerator"
   ]
  },
  {
   "cell_type": "code",
   "execution_count": null,
   "metadata": {},
   "outputs": [],
   "source": []
  },
  {
   "cell_type": "code",
   "execution_count": 3,
   "metadata": {},
   "outputs": [],
   "source": [
    "embed_size = 128    #Input features to the LSTM\n",
    "hidden_size = 1024  #Number of LSTM units\n",
    "num_layers = 1\n",
    "num_epochs = 20\n",
    "batch_size = 20\n",
    "timesteps = 30\n",
    "learning_rate = 0.002"
   ]
  },
  {
   "cell_type": "code",
   "execution_count": 4,
   "metadata": {},
   "outputs": [],
   "source": [
    "corpus = TextProcess()"
   ]
  },
  {
   "cell_type": "code",
   "execution_count": 5,
   "metadata": {},
   "outputs": [],
   "source": [
    "rep_tensor = corpus.get_data('alice.txt', batch_size=batch_size)"
   ]
  },
  {
   "cell_type": "code",
   "execution_count": 11,
   "metadata": {},
   "outputs": [],
   "source": [
    "vocab_size = len(corpus.dictionary)\n",
    "num_batches = rep_tensor.shape[1]//timesteps"
   ]
  },
  {
   "cell_type": "code",
   "execution_count": 9,
   "metadata": {},
   "outputs": [
    {
     "data": {
      "text/plain": [
       "torch.Size([20, 1652])"
      ]
     },
     "execution_count": 9,
     "metadata": {},
     "output_type": "execute_result"
    }
   ],
   "source": [
    "rep_tensor.shape"
   ]
  },
  {
   "cell_type": "code",
   "execution_count": 28,
   "metadata": {},
   "outputs": [
    {
     "data": {
      "text/plain": [
       "128"
      ]
     },
     "execution_count": 28,
     "metadata": {},
     "output_type": "execute_result"
    }
   ],
   "source": [
    "embed_size"
   ]
  },
  {
   "cell_type": "code",
   "execution_count": 29,
   "metadata": {},
   "outputs": [
    {
     "data": {
      "text/plain": [
       "30"
      ]
     },
     "execution_count": 29,
     "metadata": {},
     "output_type": "execute_result"
    }
   ],
   "source": [
    "timesteps"
   ]
  },
  {
   "cell_type": "code",
   "execution_count": 38,
   "metadata": {},
   "outputs": [],
   "source": [
    "# Get model\n",
    "model = TextGenerator(vocab_size, embed_size, hidden_size, num_layers)"
   ]
  },
  {
   "cell_type": "code",
   "execution_count": null,
   "metadata": {},
   "outputs": [],
   "source": []
  },
  {
   "cell_type": "code",
   "execution_count": 26,
   "metadata": {},
   "outputs": [],
   "source": [
    "loss_fn = nn.CrossEntropyLoss()\n",
    "optimizer = torch.optim.Adam(model.parameters(), lr=learning_rate)"
   ]
  },
  {
   "cell_type": "code",
   "execution_count": 42,
   "metadata": {},
   "outputs": [
    {
     "name": "stdout",
     "output_type": "stream",
     "text": [
      "outputs\n"
     ]
    },
    {
     "ename": "AttributeError",
     "evalue": "'NoneType' object has no attribute 'data'",
     "output_type": "error",
     "traceback": [
      "\u001b[0;31m---------------------------------------------------------------------------\u001b[0m",
      "\u001b[0;31mAttributeError\u001b[0m                            Traceback (most recent call last)",
      "\u001b[0;32m<ipython-input-42-a2536d972ce9>\u001b[0m in \u001b[0;36m<module>\u001b[0;34m\u001b[0m\n\u001b[1;32m     15\u001b[0m         \u001b[0mloss\u001b[0m\u001b[0;34m.\u001b[0m\u001b[0mbackward\u001b[0m\u001b[0;34m(\u001b[0m\u001b[0;34m)\u001b[0m\u001b[0;34m\u001b[0m\u001b[0;34m\u001b[0m\u001b[0m\n\u001b[1;32m     16\u001b[0m         \u001b[0mprint\u001b[0m\u001b[0;34m(\u001b[0m\u001b[0;34m\"outputs\"\u001b[0m\u001b[0;34m)\u001b[0m\u001b[0;34m\u001b[0m\u001b[0;34m\u001b[0m\u001b[0m\n\u001b[0;32m---> 17\u001b[0;31m         \u001b[0mprint\u001b[0m\u001b[0;34m(\u001b[0m\u001b[0moutputs\u001b[0m\u001b[0;34m.\u001b[0m\u001b[0mgrad\u001b[0m\u001b[0;34m.\u001b[0m\u001b[0mdata\u001b[0m\u001b[0;34m)\u001b[0m\u001b[0;34m\u001b[0m\u001b[0;34m\u001b[0m\u001b[0m\n\u001b[0m\u001b[1;32m     18\u001b[0m         \u001b[0;31m# Try no gradient clipping\u001b[0m\u001b[0;34m\u001b[0m\u001b[0;34m\u001b[0m\u001b[0;34m\u001b[0m\u001b[0m\n\u001b[1;32m     19\u001b[0m \u001b[0;34m\u001b[0m\u001b[0m\n",
      "\u001b[0;31mAttributeError\u001b[0m: 'NoneType' object has no attribute 'data'"
     ]
    }
   ],
   "source": [
    "for epoch in range(num_epochs):\n",
    "    # Set zeros to be the initial hidden and cell states\n",
    "    states = (torch.zeros(num_layers, batch_size, hidden_size),\n",
    "             torch.zeros(num_layers, batch_size, hidden_size))\n",
    "    for i in range(0, rep_tensor.size(1) - timesteps, timesteps):\n",
    "        # Get mini-batch inputs and targets\n",
    "        inputs = rep_tensor[:, i:i+timesteps]\n",
    "        targets = rep_tensor[:, (i+1):(i+1)+timesteps]\n",
    "        # 600 = 20 * 30 = batch_size * timesteps\n",
    "        outputs, _ = model(inputs, states) # outputs is 600x1\n",
    "        loss = loss_fn(outputs, targets.reshape(-1)) # reshape to be 600\n",
    "        \n",
    "        # Backpropagation and Weight Update\n",
    "        model.zero_grad()\n",
    "        loss.backward()\n",
    "        \n",
    "        # Try no gradient clipping\n",
    "        \n",
    "        optimizer.step()\n",
    "        \n",
    "        step = (i+1) // timesteps\n",
    "        if step % 100 == 0:\n",
    "            print(f\"Epoch [{epoch+1}/{num_epochs}], Loss: {loss.item()}\")"
   ]
  },
  {
   "cell_type": "code",
   "execution_count": 33,
   "metadata": {},
   "outputs": [],
   "source": [
    "target = torch.tensor([[   1,    2,    3,    4,    5,    5,    6,    7,    8,    9,   10,   11,\n",
    "           12,   13,   14,   15,   16,   17,   18,    3,    5,   19,   20,   13,\n",
    "           21,   22,    9,   23,   24,   25],\n",
    "        [ 621,   28,  622,  623,  238,  624,  110,   44,  625,    5,  626,  627,\n",
    "          628,  285,  251,  285,  629,   34,  196,  630,   20,  110,  251,  285,\n",
    "          631,  632,    5,  633,   88,  634],\n",
    "        [ 305, 1075,  272,  554,  555,   20,   16,   82,    5,  204,   80,  744,\n",
    "         1076,   55,   27,  161,  132,  265,  274,   69, 1077,  148, 1078,   20,\n",
    "            5,  103,  104,  112,    9,  552],\n",
    "        [1462,    5,    3, 1463, 1464, 1129,    7, 1465,   15,    3, 1466,    7,\n",
    "          379, 1467,    5,    9,   15,    3, 1468,  610, 1469, 1470,   20,   28,\n",
    "          485,   13,  468,   94,    5, 1471],\n",
    "        [  13, 1844,   38,    3,  919,   20,   27,  129,   73,    5, 1803,  575,\n",
    "          576,  110,    3, 1232,   28,  975, 1055, 1845,   20,    7,  194,    5,\n",
    "          574,    9, 1763, 1055, 1846,    5],\n",
    "        [ 103,    5, 2152, 2153,    9,  552, 2154, 2136,    3, 2155, 1359,  358,\n",
    "            9,    5,  552,  153,    3, 2156,    5,    5,  937,   49, 2125,  309,\n",
    "            9,  262,  153,    3, 1976, 1608],\n",
    "        [ 272,    3, 2364,    5,    5, 2423,  110, 2424,  272,  555, 2425,  153,\n",
    "           16, 2426,   55,   54,   55,   27,    5, 1675,    5,    5, 2427,  272,\n",
    "            3, 2364,    5,    5,    6,   46],\n",
    "        [   5,    5,  265, 2630, 2727, 2729, 1699,  272,  555,  610,    7,   44,\n",
    "           11, 2730,    5, 2731, 1702,  367, 2721,  408, 2732,  119,   55,   94,\n",
    "           55, 2686,  378,  285,    5, 2547],\n",
    "        [  16, 2991, 2992,   93,   13,    5,   41, 2604,   34,   68,  193,   80,\n",
    "            3,   59,   20, 2993, 2994,  151,    3, 2995, 2996,    5, 2997, 2998,\n",
    "            9, 2391,  483,   18, 1235, 2999],\n",
    "        [   5,  174,  756,  452,  526,  250,  130,   27,  491,   73, 3242,   34,\n",
    "          334, 2934,    5,  413,    9,  176, 3243,   34,  384,   69, 3215, 3167,\n",
    "          148, 3244,  103,  642,    5,  395],\n",
    "        [ 469, 3491,    5,    5, 3492,  212,   44,  116,  208,  203, 1934,  367,\n",
    "         3493,    3, 3252,  320,    5,   38,   44,  224, 3494,   40,  329, 3495,\n",
    "          203, 3496, 3497,   20, 3498,   20],\n",
    "        [3426,  610,  562, 2822,   20, 3748,   38, 1761,    5,    5, 3749,  272,\n",
    "            3, 3750, 3037,   16,  550, 3751,  964, 1533,    9,    5,  555,   27,\n",
    "          161,  132, 3752,  632, 3753, 3754],\n",
    "        [  20,   27,   92,  173,  167,    3,  186,    5,   13,  289,  114, 1078,\n",
    "           55,    3,  749,    7,   38,  238, 2184,  110,   27,  137,  563,    5,\n",
    "           64,   34,    7,   16, 2391,   25],\n",
    "        [1099, 3977,    9,  372,  115,   87,  110,   15,    5,    3, 1314,   13,\n",
    "          575,  263, 1603,   25,   87,  208,  203,   35, 3977, 4167,   20,  117,\n",
    "            3,    5, 4162,  500,    3, 3789],\n",
    "        [   5, 4393, 4394, 4395,    5,    5, 4396,   80,   44, 4397,   55,   44,\n",
    "         4398,  822,    3, 4189,    5,    5, 1647, 1628,    3, 4009, 4169, 4328,\n",
    "         4399, 2574,  814,    9, 4400,    5],\n",
    "        [  34,   68,  117,  262,    5, 1036,   20,   27,  161,   18,   38,   44,\n",
    "         1313, 4614,    5,    5,  265, 3940,   15, 1055,  787,   20, 4615,   80,\n",
    "          218, 4616,    5,  242,    3, 4617],\n",
    "        [ 411,  931,  309,   73,   11, 3539,   20, 1042,  107,    9,    3,    5,\n",
    "          615,  486,   13,    3, 4854,    5,    5, 4161,  270,  116,    3, 2813,\n",
    "           28,  137,  765,  252, 2828,  114],\n",
    "        [  69,   44,    5, 2807,  375,   15,    3, 5045, 5046, 5047,    5,    5,\n",
    "         1698,  274,  112,  485, 3153,  272,    3, 3789, 5048,   34,    7,  375,\n",
    "            9,    5, 4200,  426, 3276, 5049],\n",
    "        [  61,   80,    5,  117,  329,  620, 5284,   20,  577,   44,   65,   38,\n",
    "          117,  329,  620, 5285,    5, 5286,   16,   51, 5287,   20,    3, 5288,\n",
    "         4780, 5289,    5,    5,  879, 5290],\n",
    "        [  15,   44, 5612,  610, 5613,    5,  285,   38, 4741, 3103,   15, 5614,\n",
    "         2962, 5615, 2895,   13, 5616,  110, 5617,    5, 2737,  173, 4097,    9,\n",
    "            3, 3392,   13,    3, 1984, 5292]])"
   ]
  },
  {
   "cell_type": "code",
   "execution_count": 37,
   "metadata": {},
   "outputs": [
    {
     "data": {
      "text/plain": [
       "torch.Size([600])"
      ]
     },
     "execution_count": 37,
     "metadata": {},
     "output_type": "execute_result"
    }
   ],
   "source": [
    "target.reshape(-1).shape"
   ]
  },
  {
   "cell_type": "code",
   "execution_count": null,
   "metadata": {},
   "outputs": [],
   "source": [
    "[  25,   26,   27,   28,   29,   30,    3,    5,   31,   16,   17,    7,\n",
    "           32,   33,   34,   28,   35,   36,   25,   37,   38,    5,   39,   40,\n",
    "           41,   42,    3,   43,   13,   44]"
   ]
  },
  {
   "cell_type": "code",
   "execution_count": null,
   "metadata": {},
   "outputs": [],
   "source": [
    "[  26,   27,   28,   29,   30,    3,    5,   31,   16,   17,    7,   32,\n",
    "           33,   34,   28,   35,   36,   25,   37,   38,    5,   39,   40,   41,\n",
    "           42,    3,   43,   13,   44,   45]"
   ]
  },
  {
   "cell_type": "code",
   "execution_count": null,
   "metadata": {},
   "outputs": [],
   "source": []
  },
  {
   "cell_type": "code",
   "execution_count": 18,
   "metadata": {},
   "outputs": [
    {
     "name": "stdout",
     "output_type": "stream",
     "text": [
      "CHAPTER\n",
      "I.\n",
      "Down\n",
      "the\n",
      "Rabbit-Hole\n",
      "<eos>\n",
      "<eos>\n",
      "Alice\n",
      "was\n",
      "beginning\n",
      "to\n",
      "get\n",
      "very\n",
      "tired\n",
      "of\n",
      "sitting\n",
      "by\n",
      "her\n",
      "sister\n",
      "on\n",
      "the\n",
      "<eos>\n",
      "bank,\n",
      "and\n",
      "of\n",
      "having\n",
      "nothing\n",
      "to\n",
      "do:\n",
      "once\n",
      "or\n",
      "twice\n",
      "she\n",
      "had\n",
      "peeped\n",
      "into\n",
      "the\n",
      "<eos>\n",
      "book\n",
      "her\n",
      "sister\n",
      "was\n",
      "reading,\n",
      "but\n",
      "it\n",
      "had\n",
      "no\n",
      "pictures\n",
      "or\n",
      "conversations\n"
     ]
    }
   ],
   "source": [
    "for i in [ 0,  1,  2,  3,  4,  5,  5,  6,  7,  8,  9, 10, 11, 12, 13, 14, 15, 16,\n",
    "        17, 18,  3,  5, 19, 20, 13, 21, 22,  9, 23, 24, 25, 26, 27, 28, 29, 30,\n",
    "         3,  5, 31, 16, 17,  7, 32, 33, 34, 28, 35, 36, 25, 37]:\n",
    "    print(corpus.dictionary.idx2word[i])"
   ]
  },
  {
   "cell_type": "code",
   "execution_count": 22,
   "metadata": {},
   "outputs": [
    {
     "name": "stdout",
     "output_type": "stream",
     "text": [
      "0\n",
      "30\n",
      "60\n",
      "90\n",
      "120\n",
      "150\n",
      "180\n",
      "210\n",
      "240\n",
      "270\n",
      "300\n",
      "330\n",
      "360\n",
      "390\n",
      "420\n",
      "450\n",
      "480\n",
      "510\n",
      "540\n",
      "570\n",
      "600\n",
      "630\n",
      "660\n",
      "690\n",
      "720\n",
      "750\n",
      "780\n",
      "810\n",
      "840\n",
      "870\n",
      "900\n",
      "930\n",
      "960\n",
      "990\n",
      "1020\n",
      "1050\n",
      "1080\n",
      "1110\n",
      "1140\n",
      "1170\n",
      "1200\n",
      "1230\n",
      "1260\n",
      "1290\n",
      "1320\n",
      "1350\n",
      "1380\n",
      "1410\n",
      "1440\n",
      "1470\n",
      "1500\n",
      "1530\n",
      "1560\n",
      "1590\n",
      "1620\n"
     ]
    }
   ],
   "source": [
    "for i in range(0, rep_tensor.size(1) - timesteps, timesteps):\n",
    "    print(i)"
   ]
  },
  {
   "cell_type": "code",
   "execution_count": null,
   "metadata": {},
   "outputs": [],
   "source": []
  },
  {
   "cell_type": "code",
   "execution_count": null,
   "metadata": {},
   "outputs": [],
   "source": []
  },
  {
   "cell_type": "code",
   "execution_count": null,
   "metadata": {},
   "outputs": [],
   "source": []
  },
  {
   "cell_type": "code",
   "execution_count": null,
   "metadata": {},
   "outputs": [],
   "source": []
  },
  {
   "cell_type": "code",
   "execution_count": null,
   "metadata": {},
   "outputs": [],
   "source": []
  },
  {
   "cell_type": "code",
   "execution_count": null,
   "metadata": {},
   "outputs": [],
   "source": []
  },
  {
   "cell_type": "code",
   "execution_count": null,
   "metadata": {},
   "outputs": [],
   "source": []
  },
  {
   "cell_type": "code",
   "execution_count": null,
   "metadata": {},
   "outputs": [],
   "source": []
  },
  {
   "cell_type": "code",
   "execution_count": null,
   "metadata": {},
   "outputs": [],
   "source": [
    "\n"
   ]
  },
  {
   "cell_type": "code",
   "execution_count": null,
   "metadata": {},
   "outputs": [],
   "source": []
  },
  {
   "cell_type": "code",
   "execution_count": null,
   "metadata": {},
   "outputs": [],
   "source": []
  },
  {
   "cell_type": "code",
   "execution_count": null,
   "metadata": {},
   "outputs": [],
   "source": []
  },
  {
   "cell_type": "code",
   "execution_count": null,
   "metadata": {},
   "outputs": [],
   "source": []
  },
  {
   "cell_type": "code",
   "execution_count": null,
   "metadata": {},
   "outputs": [],
   "source": []
  },
  {
   "cell_type": "code",
   "execution_count": null,
   "metadata": {},
   "outputs": [],
   "source": []
  },
  {
   "cell_type": "code",
   "execution_count": null,
   "metadata": {},
   "outputs": [],
   "source": []
  },
  {
   "cell_type": "code",
   "execution_count": null,
   "metadata": {},
   "outputs": [],
   "source": []
  },
  {
   "cell_type": "code",
   "execution_count": null,
   "metadata": {},
   "outputs": [],
   "source": []
  },
  {
   "cell_type": "code",
   "execution_count": null,
   "metadata": {},
   "outputs": [],
   "source": []
  },
  {
   "cell_type": "code",
   "execution_count": null,
   "metadata": {},
   "outputs": [],
   "source": []
  },
  {
   "cell_type": "code",
   "execution_count": null,
   "metadata": {},
   "outputs": [],
   "source": []
  },
  {
   "cell_type": "code",
   "execution_count": null,
   "metadata": {},
   "outputs": [],
   "source": []
  },
  {
   "cell_type": "code",
   "execution_count": null,
   "metadata": {},
   "outputs": [],
   "source": []
  },
  {
   "cell_type": "code",
   "execution_count": null,
   "metadata": {},
   "outputs": [],
   "source": []
  },
  {
   "cell_type": "code",
   "execution_count": null,
   "metadata": {},
   "outputs": [],
   "source": []
  },
  {
   "cell_type": "code",
   "execution_count": null,
   "metadata": {},
   "outputs": [],
   "source": []
  },
  {
   "cell_type": "code",
   "execution_count": null,
   "metadata": {},
   "outputs": [],
   "source": []
  },
  {
   "cell_type": "code",
   "execution_count": null,
   "metadata": {},
   "outputs": [],
   "source": []
  },
  {
   "cell_type": "code",
   "execution_count": null,
   "metadata": {},
   "outputs": [],
   "source": []
  },
  {
   "cell_type": "code",
   "execution_count": null,
   "metadata": {},
   "outputs": [],
   "source": []
  },
  {
   "cell_type": "code",
   "execution_count": null,
   "metadata": {},
   "outputs": [],
   "source": []
  }
 ],
 "metadata": {
  "kernelspec": {
   "display_name": "Python 3",
   "language": "python",
   "name": "python3"
  },
  "language_info": {
   "codemirror_mode": {
    "name": "ipython",
    "version": 3
   },
   "file_extension": ".py",
   "mimetype": "text/x-python",
   "name": "python",
   "nbconvert_exporter": "python",
   "pygments_lexer": "ipython3",
   "version": "3.7.1"
  }
 },
 "nbformat": 4,
 "nbformat_minor": 2
}
