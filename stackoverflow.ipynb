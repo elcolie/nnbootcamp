{
 "cells": [
  {
   "cell_type": "code",
   "execution_count": 1,
   "metadata": {},
   "outputs": [],
   "source": [
    "import torch, torchvision"
   ]
  },
  {
   "cell_type": "code",
   "execution_count": 4,
   "metadata": {},
   "outputs": [
    {
     "name": "stdout",
     "output_type": "stream",
     "text": [
      "tensor([[-0.4179,  0.0696,  0.8800, -0.7345],\n",
      "        [-1.1647,  0.4911, -1.5917, -0.9759],\n",
      "        [ 0.0176, -0.0878,  0.7068,  1.5677],\n",
      "        [-0.2214, -1.2107,  1.0637, -0.4538]])\n",
      "tensor([-0.4179,  0.0696,  0.8800, -0.7345, -1.1647,  0.4911, -1.5917, -0.9759,\n",
      "         0.0176, -0.0878,  0.7068,  1.5677, -0.2214, -1.2107,  1.0637, -0.4538])\n",
      "tensor([[-0.4179,  0.0696,  0.8800, -0.7345, -1.1647,  0.4911, -1.5917, -0.9759],\n",
      "        [ 0.0176, -0.0878,  0.7068,  1.5677, -0.2214, -1.2107,  1.0637, -0.4538]])\n"
     ]
    }
   ],
   "source": [
    "x = torch.randn(4,4)\n",
    "y = x.view(16)\n",
    "z = x.view(-1,8)\n",
    "print(x)\n",
    "print(y)\n",
    "print(z)"
   ]
  },
  {
   "cell_type": "code",
   "execution_count": 32,
   "metadata": {},
   "outputs": [
    {
     "name": "stdout",
     "output_type": "stream",
     "text": [
      "tensor([-0.6933,  0.1126,  0.3913], requires_grad=True)\n"
     ]
    }
   ],
   "source": [
    "x = torch.randn(3, requires_grad=True)\n",
    "print(x)\n",
    "y = x * 2"
   ]
  },
  {
   "cell_type": "code",
   "execution_count": 33,
   "metadata": {},
   "outputs": [
    {
     "name": "stdout",
     "output_type": "stream",
     "text": [
      "tensor([-0.6933,  0.1126,  0.3913], requires_grad=True)\n",
      "tensor([-88.7455,  14.4082,  50.0871], grad_fn=<MulBackward>)\n",
      "6\n"
     ]
    }
   ],
   "source": [
    "i = 0\n",
    "while y.data.norm() < 100:\n",
    "    y = y * 2\n",
    "    i+= 1\n",
    "\n",
    "print(x)\n",
    "print(y)\n",
    "print(i)"
   ]
  },
  {
   "cell_type": "code",
   "execution_count": 34,
   "metadata": {},
   "outputs": [
    {
     "name": "stdout",
     "output_type": "stream",
     "text": [
      "tensor([ 12.8000, 128.0000,   0.0128])\n"
     ]
    }
   ],
   "source": [
    "gradients = torch.tensor([0.1, 1.0, 0.0001], dtype=torch.float)\n",
    "y.backward(gradients)\n",
    "print(x.grad)"
   ]
  },
  {
   "cell_type": "code",
   "execution_count": null,
   "metadata": {},
   "outputs": [],
   "source": []
  },
  {
   "cell_type": "code",
   "execution_count": null,
   "metadata": {},
   "outputs": [],
   "source": []
  },
  {
   "cell_type": "code",
   "execution_count": null,
   "metadata": {},
   "outputs": [],
   "source": []
  }
 ],
 "metadata": {
  "kernelspec": {
   "display_name": "Python 3",
   "language": "python",
   "name": "python3"
  },
  "language_info": {
   "codemirror_mode": {
    "name": "ipython",
    "version": 3
   },
   "file_extension": ".py",
   "mimetype": "text/x-python",
   "name": "python",
   "nbconvert_exporter": "python",
   "pygments_lexer": "ipython3",
   "version": "3.6.5"
  }
 },
 "nbformat": 4,
 "nbformat_minor": 2
}
